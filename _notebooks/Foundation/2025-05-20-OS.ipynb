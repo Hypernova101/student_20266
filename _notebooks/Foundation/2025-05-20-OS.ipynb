{
 "cells": [
  {
   "cell_type": "raw",
   "id": "3f1c5282",
   "metadata": {
    "vscode": {
     "languageId": "raw"
    }
   },
   "source": [
    "---\n",
    "toc: false\n",
    "comments: true\n",
    "layout: post\n",
    "title: Operating System and Tool Setup\n",
    "description: \n",
    "dcategories: [DevOps]\n",
    "permalink: /devops/tools/os\n",
    "menu: nav/tools_setup.html\n",
    "toc: true\n",
    "comments: true\n",
    "---"
   ]
  },
  {
   "cell_type": "markdown",
   "id": "113014ec",
   "metadata": {},
   "source": []
  }
 ],
 "metadata": {
  "language_info": {
   "name": "python"
  }
 },
 "nbformat": 4,
 "nbformat_minor": 5
}
